{
 "cells": [
  {
   "cell_type": "markdown",
   "metadata": {},
   "source": [
    "## Compare two directories"
   ]
  },
  {
   "cell_type": "code",
   "execution_count": null,
   "metadata": {},
   "outputs": [],
   "source": [
    "import filecmp"
   ]
  },
  {
   "cell_type": "code",
   "execution_count": null,
   "metadata": {},
   "outputs": [],
   "source": [
    "fp1 = \"/Volumes/MyWD/My Docs/4.Finance\"\n",
    "fp2 = \"/Volumes/MyWD/Temp/Docs From Maam Mac/4.Finance\""
   ]
  },
  {
   "cell_type": "code",
   "execution_count": null,
   "metadata": {},
   "outputs": [],
   "source": [
    "fp1 = \"/Users/apaul2/Documents/_Temp/India 2019/Pics/2019 - 2021\"\n",
    "fp2 = \"/Volumes/Photo/2019 - 2021\""
   ]
  },
  {
   "cell_type": "code",
   "execution_count": null,
   "metadata": {},
   "outputs": [],
   "source": [
    "c = filecmp.dircmp(fp1, fp2)\n",
    "\n",
    "def print_diff_files(dcmp):\n",
    "    for name in dcmp.diff_files:\n",
    "        print(\"DIFF file %s found in %s and %s\" % (name, dcmp.left, dcmp.right))\n",
    "    for name in dcmp.left_only:\n",
    "        print(\"ONLY LEFT file %s found in %s\" % (name, dcmp.left))\n",
    "    for name in dcmp.right_only:\n",
    "        print(\"ONLY RIGHT file %s found in %s\" % (name, dcmp.right))\n",
    "    for sub_dcmp in dcmp.subdirs.values():\n",
    "        print_diff_files(sub_dcmp)\n",
    "\n",
    "print_diff_files(c)"
   ]
  },
  {
   "cell_type": "code",
   "execution_count": null,
   "metadata": {},
   "outputs": [],
   "source": []
  }
 ],
 "metadata": {
  "kernelspec": {
   "display_name": "Python 3",
   "language": "python",
   "name": "python3"
  },
  "language_info": {
   "codemirror_mode": {
    "name": "ipython",
    "version": 3
   },
   "file_extension": ".py",
   "mimetype": "text/x-python",
   "name": "python",
   "nbconvert_exporter": "python",
   "pygments_lexer": "ipython3",
   "version": "3.6.8"
  }
 },
 "nbformat": 4,
 "nbformat_minor": 4
}
